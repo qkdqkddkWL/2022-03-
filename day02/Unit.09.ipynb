{
 "cells": [
  {
   "cell_type": "code",
   "execution_count": null,
   "metadata": {},
   "outputs": [],
   "source": [
    "#formatted string : python 3.6 이상에서 사용가능 ex) print(f'{x}:{w}-{s}')\n",
    "print(f'{5}:::{2}-{3}');\n",
    "\n",
    "a=20;\n",
    "print(f'{a:02d}');\n",
    "import datetime\n",
    "\n",
    "now=datetime.datetime.now();\n",
    "print(now);\n",
    "multi_line=\"\"\"hello\n",
    "안녕\n",
    "python\"\"\"\n",
    "print(multi_line);\n",
    "s=\"hi,\\\"good\\\"\";\n",
    "s"
   ]
  }
 ],
 "metadata": {
  "language_info": {
   "name": "python"
  },
  "orig_nbformat": 4
 },
 "nbformat": 4,
 "nbformat_minor": 2
}
